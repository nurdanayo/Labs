{
 "cells": [
  {
   "cell_type": "code",
   "execution_count": 3,
   "metadata": {},
   "outputs": [
    {
     "name": "stdout",
     "output_type": "stream",
     "text": [
      "34.0 grams = 963.88 ounces\n"
     ]
    }
   ],
   "source": [
    "#1\n",
    "def grams_to_ounces(grams):\n",
    "    return grams * 28.3495231 \n",
    "\n",
    "\n",
    "grams = float(input(\" the number of grams: \"))\n",
    "\n",
    "ounces = grams_to_ounces(grams)\n",
    "\n",
    "print(f\"{grams} grams = {ounces:.2f} ounces\")\n"
   ]
  },
  {
   "cell_type": "code",
   "execution_count": 2,
   "metadata": {},
   "outputs": [
    {
     "name": "stdout",
     "output_type": "stream",
     "text": [
      "67.0°F = 19.44°C\n"
     ]
    }
   ],
   "source": [
    "#2\n",
    "def fahrenheit_to_celsius(fahrenheit):\n",
    "    return (5 / 9) * (fahrenheit - 32) \n",
    "\n",
    "\n",
    "fahrenheit = float(input(\"Enter temperature in Fahrenheit: \"))\n",
    "\n",
    "celsius = fahrenheit_to_celsius(fahrenheit)\n",
    "\n",
    "print(f\"{fahrenheit}°F = {celsius:.2f}°C\")\n"
   ]
  },
  {
   "cell_type": "code",
   "execution_count": 5,
   "metadata": {},
   "outputs": [
    {
     "name": "stdout",
     "output_type": "stream",
     "text": [
      "Chickens: 26, Rabbits: 8\n"
     ]
    }
   ],
   "source": [
    "#3\n",
    "def solve(numheads, numlegs):\n",
    "    for chickens in range(numheads + 1): \n",
    "        rabbits = numheads - chickens  \n",
    "        if (2 * chickens + 4 * rabbits) == numlegs:  \n",
    "            return chickens, rabbits \n",
    "\n",
    "# Example usage\n",
    "chickens, rabbits = solve(34, 84)\n",
    "print(f\"Chickens: {chickens}, Rabbits: {rabbits}\")\n",
    "\n"
   ]
  },
  {
   "cell_type": "code",
   "execution_count": 8,
   "metadata": {},
   "outputs": [
    {
     "name": "stdout",
     "output_type": "stream",
     "text": [
      "Prime numbers: [17, 19, 29, 31]\n"
     ]
    }
   ],
   "source": [
    "#4\n",
    "import math \n",
    "\n",
    "\n",
    "def is_prime(n):\n",
    "    if n < 2:\n",
    "        return False  \n",
    "    for i in range(2, int(math.sqrt(n)) + 1):  \n",
    "        if n % i == 0:\n",
    "            return False \n",
    "    return True  \n",
    "\n",
    "def filter_prime(numbers):\n",
    "    return list(filter(lambda x: is_prime(x), numbers)) \n",
    "\n",
    "numbers = [10, 15, 17, 18, 19, 22, 27, 29, 31]\n",
    "print(\"Prime numbers:\", filter_prime(numbers))\n"
   ]
  },
  {
   "cell_type": "code",
   "execution_count": 10,
   "metadata": {},
   "outputs": [
    {
     "name": "stdout",
     "output_type": "stream",
     "text": [
      "Permutations of the string are:\n",
      "nur\n",
      "nru\n",
      "unr\n",
      "urn\n",
      "rnu\n",
      "run\n"
     ]
    }
   ],
   "source": [
    "#5\n",
    "from itertools import permutations\n",
    "\n",
    "def print_permutations(s):\n",
    "    for p in permutations(s):\n",
    "        print(''.join(p))\n",
    "\n",
    "s = input(\"Enter a string: \")\n",
    "print(\"Permutations of the string are:\")\n",
    "print_permutations(s)\n"
   ]
  },
  {
   "cell_type": "code",
   "execution_count": 12,
   "metadata": {},
   "outputs": [
    {
     "name": "stdout",
     "output_type": "stream",
     "text": [
      "d is nur\n"
     ]
    }
   ],
   "source": [
    "#6\n",
    "def reverse_words(sentence):\n",
    "    return ' '.join(sentence.split()[::-1])\n",
    "\n",
    "s = input(\"Enter a sentence: \")\n",
    "print(reverse_words(s))\n"
   ]
  },
  {
   "cell_type": "code",
   "execution_count": 13,
   "metadata": {},
   "outputs": [
    {
     "name": "stdout",
     "output_type": "stream",
     "text": [
      "True\n",
      "False\n",
      "False\n"
     ]
    }
   ],
   "source": [
    "#7\n",
    "def has_33(nums):\n",
    "    for i in range(len(nums) - 1):\n",
    "        if nums[i] == 3 and nums[i + 1] == 3:\n",
    "            return True\n",
    "    return False\n",
    "\n",
    "\n",
    "print(has_33([1, 3, 3]))  \n",
    "print(has_33([1, 3, 1, 3]))  \n",
    "print(has_33([3, 1, 3]))  \n"
   ]
  },
  {
   "cell_type": "code",
   "execution_count": 14,
   "metadata": {},
   "outputs": [
    {
     "name": "stdout",
     "output_type": "stream",
     "text": [
      "True\n",
      "True\n",
      "False\n"
     ]
    }
   ],
   "source": [
    "#8\n",
    "def spy_game(nums):\n",
    "    code = [0, 0, 7]\n",
    "    for num in nums:\n",
    "        if num == code[0]:\n",
    "            code.pop(0)\n",
    "        if not code:\n",
    "            return True\n",
    "    return False\n",
    "\n",
    "\n",
    "print(spy_game([1, 2, 4, 0, 0, 7, 5]))  \n",
    "print(spy_game([1, 0, 2, 4, 0, 5, 7]))  \n",
    "print(spy_game([1, 7, 2, 0, 4, 5, 0]))  \n"
   ]
  },
  {
   "cell_type": "code",
   "execution_count": 16,
   "metadata": {},
   "outputs": [
    {
     "name": "stdout",
     "output_type": "stream",
     "text": [
      "523598.7755982988\n"
     ]
    }
   ],
   "source": [
    "#9\n",
    "import math\n",
    "\n",
    "def sphere_volume(radius):\n",
    "    return (4/3) * math.pi * (radius ** 3)\n",
    "\n",
    "r = float(input())\n",
    "print(sphere_volume(r))\n"
   ]
  },
  {
   "cell_type": "code",
   "execution_count": 17,
   "metadata": {},
   "outputs": [
    {
     "name": "stdout",
     "output_type": "stream",
     "text": [
      "[1, 2, 3, 4, 5, 6]\n"
     ]
    }
   ],
   "source": [
    "#10\n",
    "def unique_elements(lst):\n",
    "    unique_list = []\n",
    "    for item in lst:\n",
    "        if item not in unique_list:\n",
    "            unique_list.append(item)\n",
    "    return unique_list\n",
    "\n",
    "\n",
    "nums = [1, 2, 2, 3, 4, 4, 5, 6, 6]\n",
    "print(unique_elements(nums))  \n"
   ]
  },
  {
   "cell_type": "code",
   "execution_count": 18,
   "metadata": {},
   "outputs": [
    {
     "name": "stdout",
     "output_type": "stream",
     "text": [
      "It is not a palindrome.\n"
     ]
    }
   ],
   "source": [
    "#11\n",
    "def is_palindrome(s):\n",
    "    s = ''.join(s.lower().split()) \n",
    "    return s == s[::-1]\n",
    "\n",
    "word = input(\"Enter a word or phrase: \")\n",
    "if is_palindrome(word):\n",
    "    print(\"It is a palindrome!\")\n",
    "else:\n",
    "    print(\"It is not a palindrome.\")\n"
   ]
  },
  {
   "cell_type": "code",
   "execution_count": 19,
   "metadata": {},
   "outputs": [
    {
     "name": "stdout",
     "output_type": "stream",
     "text": [
      "****\n",
      "*********\n",
      "*******\n"
     ]
    }
   ],
   "source": [
    "#12\n",
    "def histogram(lst):\n",
    "    for num in lst:\n",
    "        print('*' * num)\n",
    "\n",
    "histogram([4, 9, 7])\n"
   ]
  },
  {
   "cell_type": "code",
   "execution_count": 20,
   "metadata": {},
   "outputs": [
    {
     "name": "stdout",
     "output_type": "stream",
     "text": [
      "Hello! What is your name?\n",
      "\n",
      "Well, nurdana, I am thinking of a number between 1 and 20.\n",
      "\n",
      "Take a guess.\n",
      "Your guess is too high.\n",
      "\n",
      "Take a guess.\n",
      "Your guess is too high.\n",
      "\n",
      "Take a guess.\n",
      "Your guess is too low.\n",
      "\n",
      "Take a guess.\n",
      "Your guess is too low.\n",
      "\n",
      "Take a guess.\n",
      "Your guess is too high.\n",
      "\n",
      "Take a guess.\n",
      "Your guess is too high.\n",
      "\n",
      "Take a guess.\n",
      "Your guess is too high.\n",
      "\n",
      "Take a guess.\n",
      "Your guess is too high.\n",
      "\n",
      "Take a guess.\n",
      "Your guess is too low.\n",
      "\n",
      "Take a guess.\n",
      "Good job, nurdana! You guessed my number in 10 guesses!\n"
     ]
    }
   ],
   "source": [
    "#13\n",
    "import random\n",
    "\n",
    "def guess_the_number():\n",
    "    print(\"Hello! What is your name?\")\n",
    "    name = input()\n",
    "\n",
    "    print(f\"\\nWell, {name}, I am thinking of a number between 1 and 20.\")\n",
    "\n",
    "    secret_number = random.randint(1, 20)\n",
    "    attempts = 0\n",
    "\n",
    "    while True:\n",
    "        print(\"\\nTake a guess.\")\n",
    "        try:\n",
    "            guess = int(input())\n",
    "            attempts += 1\n",
    "\n",
    "            if guess < secret_number:\n",
    "                print(\"Your guess is too low.\")\n",
    "            elif guess > secret_number:\n",
    "                print(\"Your guess is too high.\")\n",
    "            else:\n",
    "                print(f\"Good job, {name}! You guessed my number in {attempts} guesses!\")\n",
    "                break\n",
    "        except ValueError:\n",
    "            print(\"Please enter a valid integer.\")\n",
    "\n",
    "guess_the_number()\n"
   ]
  }
 ],
 "metadata": {
  "kernelspec": {
   "display_name": "Python 3",
   "language": "python",
   "name": "python3"
  },
  "language_info": {
   "codemirror_mode": {
    "name": "ipython",
    "version": 3
   },
   "file_extension": ".py",
   "mimetype": "text/x-python",
   "name": "python",
   "nbconvert_exporter": "python",
   "pygments_lexer": "ipython3",
   "version": "3.13.1"
  }
 },
 "nbformat": 4,
 "nbformat_minor": 2
}
