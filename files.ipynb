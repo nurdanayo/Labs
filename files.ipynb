{
 "cells": [
  {
   "cell_type": "code",
   "execution_count": 3,
   "metadata": {},
   "outputs": [
    {
     "name": "stdout",
     "output_type": "stream",
     "text": [
      "Directories: []\n",
      "Files: ['b.functions.ipynb', 'files.ipynb']\n",
      "All Directories and Files: ['b.functions.ipynb', 'files.ipynb']\n"
     ]
    }
   ],
   "source": [
    "#1\n",
    "import os\n",
    "\n",
    "path = input(\"Enter the directory path: \")\n",
    "\n",
    "print(\"Directories:\", [d for d in os.listdir(path) if os.path.isdir(os.path.join(path, d))])\n",
    "print(\"Files:\", [f for f in os.listdir(path) if os.path.isfile(os.path.join(path, f))])\n",
    "print(\"All Directories and Files:\", os.listdir(path))\n"
   ]
  },
  {
   "cell_type": "code",
   "execution_count": 4,
   "metadata": {},
   "outputs": [
    {
     "name": "stdout",
     "output_type": "stream",
     "text": [
      "Exists: False\n",
      "Readable: False\n",
      "Writable: False\n",
      "Executable: False\n"
     ]
    }
   ],
   "source": [
    "#2\n",
    "import os\n",
    "\n",
    "path = input(\"Enter the path: \")\n",
    "\n",
    "print(\"Exists:\", os.path.exists(path))\n",
    "print(\"Readable:\", os.access(path, os.R_OK))\n",
    "print(\"Writable:\", os.access(path, os.W_OK))\n",
    "print(\"Executable:\", os.access(path, os.X_OK))\n",
    "\n"
   ]
  },
  {
   "cell_type": "code",
   "execution_count": 5,
   "metadata": {},
   "outputs": [
    {
     "name": "stdout",
     "output_type": "stream",
     "text": [
      "The path does not exist.\n"
     ]
    }
   ],
   "source": [
    "#3\n",
    "import os\n",
    "\n",
    "path = input(\"Enter the path: \")\n",
    "\n",
    "if os.path.exists(path):\n",
    "    print(\"The path exists.\")\n",
    "    print(\"Directory:\", os.path.dirname(path))  # Extract directory\n",
    "    print(\"Filename:\", os.path.basename(path))  # Extract filename\n",
    "else:\n",
    "    print(\"The path does not exist.\")\n"
   ]
  },
  {
   "cell_type": "code",
   "execution_count": 6,
   "metadata": {},
   "outputs": [
    {
     "name": "stdout",
     "output_type": "stream",
     "text": [
      "File created!\n"
     ]
    }
   ],
   "source": [
    "filename = \"example.txt\"\n",
    "\n",
    "# Create a file and write lines to it\n",
    "with open(filename, 'w', encoding='utf-8') as file:\n",
    "    file.write(\"First line\\n\")\n",
    "    file.write(\"Second line\\n\")\n",
    "    file.write(\"Third line\\n\")\n",
    "\n",
    "print(\"File created!\")\n",
    "\n"
   ]
  },
  {
   "cell_type": "code",
   "execution_count": 7,
   "metadata": {},
   "outputs": [
    {
     "name": "stdout",
     "output_type": "stream",
     "text": [
      "Number of lines: 3\n"
     ]
    }
   ],
   "source": [
    "def count_lines(filename):\n",
    "    with open(filename, 'r', encoding='utf-8') as file:\n",
    "        return sum(1 for line in file)\n",
    "\n",
    "# Example usage\n",
    "filename = input(\"Enter the filename: \")\n",
    "print(\"Number of lines:\", count_lines(filename))\n"
   ]
  },
  {
   "cell_type": "code",
   "execution_count": 8,
   "metadata": {},
   "outputs": [
    {
     "name": "stdout",
     "output_type": "stream",
     "text": [
      "List written to file successfully!\n"
     ]
    }
   ],
   "source": [
    "# Sample list\n",
    "data = [\"Apple\", \"Banana\", \"Cherry\", \"Mango\"]\n",
    "\n",
    "# Write list to file\n",
    "with open(\"output.txt\", \"w\", encoding=\"utf-8\") as file:\n",
    "    for item in data:\n",
    "        file.write(item + \"\\n\")  # Write each item on a new line\n",
    "\n",
    "print(\"List written to file successfully!\")\n"
   ]
  },
  {
   "cell_type": "code",
   "execution_count": 9,
   "metadata": {},
   "outputs": [
    {
     "name": "stdout",
     "output_type": "stream",
     "text": [
      "26 text files (A-Z) have been created!\n"
     ]
    }
   ],
   "source": [
    "import string\n",
    "\n",
    "# Loop through uppercase letters A-Z\n",
    "for letter in string.ascii_uppercase:\n",
    "    filename = f\"{letter}.txt\"  # Generate filename\n",
    "    with open(filename, \"w\", encoding=\"utf-8\") as file:\n",
    "        file.write(f\"This is {filename}\\n\")  # Write some content\n",
    "\n",
    "print(\"26 text files (A-Z) have been created!\")\n"
   ]
  },
  {
   "cell_type": "code",
   "execution_count": 13,
   "metadata": {},
   "outputs": [
    {
     "name": "stdout",
     "output_type": "stream",
     "text": [
      "File copied successfully!\n"
     ]
    }
   ],
   "source": [
    "# Function to copy file contents\n",
    "def copy_file(source, destination):\n",
    "    with open(source, \"r\", encoding=\"utf-8\") as src, open(destination, \"w\", encoding=\"utf-8\") as dest:\n",
    "        dest.write(src.read())\n",
    "\n",
    "# Example usage\n",
    "source_file = input(\"Enter the source filename: \")\n",
    "destination_file = input(\"Enter the destination filename: \")\n",
    "\n",
    "copy_file(source_file, destination_file)\n",
    "print(\"File copied successfully!\")\n"
   ]
  },
  {
   "cell_type": "code",
   "execution_count": 15,
   "metadata": {},
   "outputs": [
    {
     "name": "stdout",
     "output_type": "stream",
     "text": [
      "File deleted successfully!\n"
     ]
    }
   ],
   "source": [
    "import os\n",
    "\n",
    "file_path = input(\"Enter the file path to delete: \")\n",
    "\n",
    "if os.path.exists(file_path) and os.access(file_path, os.W_OK):\n",
    "    os.remove(file_path)\n",
    "    print(\"File deleted successfully!\")\n",
    "else:\n",
    "    print(\"File does not exist or cannot be deleted.\")\n"
   ]
  }
 ],
 "metadata": {
  "kernelspec": {
   "display_name": "Python 3",
   "language": "python",
   "name": "python3"
  },
  "language_info": {
   "codemirror_mode": {
    "name": "ipython",
    "version": 3
   },
   "file_extension": ".py",
   "mimetype": "text/x-python",
   "name": "python",
   "nbconvert_exporter": "python",
   "pygments_lexer": "ipython3",
   "version": "3.13.1"
  }
 },
 "nbformat": 4,
 "nbformat_minor": 2
}
