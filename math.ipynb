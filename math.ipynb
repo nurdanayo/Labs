{
 "cells": [
  {
   "cell_type": "code",
   "execution_count": 2,
   "metadata": {},
   "outputs": [
    {
     "name": "stdout",
     "output_type": "stream",
     "text": [
      "Output radian: 0.261799\n"
     ]
    }
   ],
   "source": [
    "import math\n",
    "\n",
    "def degree_to_radian(degree):\n",
    "    return degree * (math.pi / 180)\n",
    "\n",
    "\n",
    "degree = float(input(\"Input degree: \"))\n",
    "radian = degree_to_radian(degree)\n",
    "\n",
    "\n",
    "print(f\"Output radian: {radian:.6f}\")\n"
   ]
  },
  {
   "cell_type": "code",
   "execution_count": 3,
   "metadata": {},
   "outputs": [
    {
     "name": "stdout",
     "output_type": "stream",
     "text": [
      "Expected Output: 27.5\n"
     ]
    }
   ],
   "source": [
    "def trapezoid_area(height, base1, base2):\n",
    "    return 0.5 * (base1 + base2) * height\n",
    "\n",
    "\n",
    "height = float(input(\"Height: \"))\n",
    "base1 = float(input(\"Base, first value: \"))\n",
    "base2 = float(input(\"Base, second value: \"))\n",
    "\n",
    "\n",
    "area = trapezoid_area(height, base1, base2)\n",
    "\n",
    "\n",
    "print(f\"Expected Output: {area:.1f}\")\n"
   ]
  },
  {
   "cell_type": "code",
   "execution_count": 5,
   "metadata": {},
   "outputs": [
    {
     "name": "stdout",
     "output_type": "stream",
     "text": [
      "The area of the polygon is: 625.0\n"
     ]
    }
   ],
   "source": [
    "import math\n",
    "\n",
    "def regular_polygon_area(n, s):\n",
    "    return (n * s**2) / (4 * math.tan(math.pi / n))\n",
    "\n",
    "\n",
    "n = int(input(\"Input number of sides: \"))\n",
    "s = float(input(\"Input the length of a side: \"))\n",
    "\n",
    "\n",
    "area = regular_polygon_area(n, s)\n",
    "\n",
    "\n",
    "print(f\"The area of the polygon is: {area:.1f}\")\n"
   ]
  },
  {
   "cell_type": "code",
   "execution_count": 7,
   "metadata": {},
   "outputs": [
    {
     "name": "stdout",
     "output_type": "stream",
     "text": [
      "Expected Output: 30.0\n"
     ]
    }
   ],
   "source": [
    "def parallelogram_area(base, height):\n",
    "    return base * height\n",
    "\n",
    "\n",
    "base = float(input(\"Length of base: \"))\n",
    "height = float(input(\"Height of parallelogram: \"))\n",
    "\n",
    "\n",
    "area = parallelogram_area(base, height)\n",
    "\n",
    "\n",
    "print(f\"Expected Output: {area:.1f}\")\n"
   ]
  }
 ],
 "metadata": {
  "kernelspec": {
   "display_name": "Python 3",
   "language": "python",
   "name": "python3"
  },
  "language_info": {
   "codemirror_mode": {
    "name": "ipython",
    "version": 3
   },
   "file_extension": ".py",
   "mimetype": "text/x-python",
   "name": "python",
   "nbconvert_exporter": "python",
   "pygments_lexer": "ipython3",
   "version": "3.13.1"
  }
 },
 "nbformat": 4,
 "nbformat_minor": 2
}
