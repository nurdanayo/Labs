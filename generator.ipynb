{
 "cells": [
  {
   "cell_type": "code",
   "execution_count": 1,
   "metadata": {},
   "outputs": [
    {
     "name": "stdout",
     "output_type": "stream",
     "text": [
      "0\n",
      "1\n",
      "4\n",
      "9\n",
      "16\n",
      "25\n",
      "36\n",
      "49\n",
      "64\n",
      "81\n",
      "100\n"
     ]
    }
   ],
   "source": [
    "#1\n",
    "def squares(N):\n",
    "    for i in range(N + 1):\n",
    "        yield i * i\n",
    "\n",
    "for sq in squares(10):\n",
    "    print(sq)\n"
   ]
  },
  {
   "cell_type": "code",
   "execution_count": 11,
   "metadata": {},
   "outputs": [
    {
     "name": "stdout",
     "output_type": "stream",
     "text": [
      "0\n",
      "2\n",
      "4\n",
      "6\n",
      "8\n",
      "10\n",
      "12\n"
     ]
    }
   ],
   "source": [
    "#2\n",
    "\n",
    "def even_numbers(n):\n",
    "    for i in range(0, n+1, 2):\n",
    "        yield i\n",
    "\n",
    "n = int(input(\"enter a number:\"))\n",
    "\n",
    "for i in even_numbers(n):\n",
    "    print(i)\n"
   ]
  },
  {
   "cell_type": "code",
   "execution_count": 14,
   "metadata": {},
   "outputs": [
    {
     "name": "stdout",
     "output_type": "stream",
     "text": [
      "0\n",
      "12\n",
      "24\n",
      "36\n"
     ]
    }
   ],
   "source": [
    "#3\n",
    "def divisible_by_3_and_4(n):\n",
    "    for i in range(0, n + 1):  \n",
    "        if i % 3 == 0 and i % 4 == 0:  \n",
    "            yield i  \n",
    "\n",
    "\n",
    "n = int(input(\"Enter a number: \"))\n",
    "for num in divisible_by_3_and_4(n):\n",
    "    print(num)\n",
    "\n",
    "\n"
   ]
  },
  {
   "cell_type": "code",
   "execution_count": 17,
   "metadata": {},
   "outputs": [
    {
     "name": "stdout",
     "output_type": "stream",
     "text": [
      "Squares from 2 to 6 :\n",
      "4\n",
      "9\n",
      "16\n",
      "25\n",
      "36\n"
     ]
    }
   ],
   "source": [
    "#4\n",
    "def squares(a, b):\n",
    "    for i in range(a, b + 1):  \n",
    "        yield i * i \n",
    "\n",
    "\n",
    "a = int(input())\n",
    "b = int(input())\n",
    "\n",
    "print(\"Squares from\", a, \"to\", b, \":\")\n",
    "for sq in squares(a, b):  \n",
    "    print(sq)\n"
   ]
  },
  {
   "cell_type": "code",
   "execution_count": 18,
   "metadata": {},
   "outputs": [
    {
     "name": "stdout",
     "output_type": "stream",
     "text": [
      "Countdown from 3 to 0:\n",
      "3\n",
      "2\n",
      "1\n",
      "0\n"
     ]
    }
   ],
   "source": [
    "#5\n",
    "def countdown(n):\n",
    "    for i in range(n, -1, -1): \n",
    "        yield i  \n",
    "\n",
    "\n",
    "n = int(input(\"Enter a number: \"))\n",
    "\n",
    "print(\"Countdown from\", n, \"to 0:\")\n",
    "for num in countdown(n): \n",
    "    print(num)\n"
   ]
  }
 ],
 "metadata": {
  "kernelspec": {
   "display_name": "Python 3",
   "language": "python",
   "name": "python3"
  },
  "language_info": {
   "codemirror_mode": {
    "name": "ipython",
    "version": 3
   },
   "file_extension": ".py",
   "mimetype": "text/x-python",
   "name": "python",
   "nbconvert_exporter": "python",
   "pygments_lexer": "ipython3",
   "version": "3.13.1"
  }
 },
 "nbformat": 4,
 "nbformat_minor": 2
}
