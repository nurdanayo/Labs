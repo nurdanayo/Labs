{
 "cells": [
  {
   "cell_type": "code",
   "execution_count": 1,
   "metadata": {},
   "outputs": [
    {
     "name": "stdout",
     "output_type": "stream",
     "text": [
      "Product of the list: 120\n"
     ]
    }
   ],
   "source": [
    "#1\n",
    "import math\n",
    "\n",
    "numbers = [2, 3, 4, 5]\n",
    "result = math.prod(numbers)\n",
    "\n",
    "print(\"Product of the list:\", result)  \n"
   ]
  },
  {
   "cell_type": "code",
   "execution_count": 4,
   "metadata": {},
   "outputs": [
    {
     "name": "stdout",
     "output_type": "stream",
     "text": [
      "Uppercase letters: 2\n",
      "Lowercase letters: 8\n"
     ]
    }
   ],
   "source": [
    "#2\n",
    "def count_case_letters(s):\n",
    "    upper_case = sum(map(str.isupper, s))\n",
    "    lower_case = sum(map(str.islower, s))\n",
    "    \n",
    "    print(\"Uppercase letters:\", upper_case)\n",
    "    print(\"Lowercase letters:\", lower_case)\n",
    "\n",
    "\n",
    "text = \"Hello World!\"\n",
    "count_case_letters(text)\n",
    "\n"
   ]
  },
  {
   "cell_type": "code",
   "execution_count": 7,
   "metadata": {},
   "outputs": [
    {
     "name": "stdout",
     "output_type": "stream",
     "text": [
      "The string is a palindrome.\n"
     ]
    }
   ],
   "source": [
    "#3\n",
    "def is_palindrome(s):\n",
    "    return s == s[::-1]  # reverse the string and compare\n",
    "\n",
    "\n",
    "text = \"madam\"\n",
    "if is_palindrome(text):\n",
    "    print(\"The string is a palindrome.\")\n",
    "else:\n",
    "    print(\"The string is not a palindrome.\")\n"
   ]
  },
  {
   "cell_type": "code",
   "execution_count": 8,
   "metadata": {},
   "outputs": [
    {
     "name": "stdout",
     "output_type": "stream",
     "text": [
      "Square root of 25100 after 2123 milliseconds is 158.42979517754858\n"
     ]
    }
   ],
   "source": [
    "#4\n",
    "import math\n",
    "import time\n",
    "\n",
    "# Function to compute square root after a delay\n",
    "def delayed_square_root(number, delay_ms):\n",
    "    time.sleep(delay_ms / 1000)  # Convert milliseconds to seconds\n",
    "    result = math.sqrt(number)\n",
    "    print(f\"Square root of {number} after {delay_ms} milliseconds is {result}\")\n",
    "\n",
    "\n",
    "number = int(input(\"Enter a number: \"))\n",
    "delay_ms = int(input(\"Enter delay in milliseconds: \"))\n",
    "\n",
    "delayed_square_root(number, delay_ms)\n"
   ]
  },
  {
   "cell_type": "code",
   "execution_count": 10,
   "metadata": {},
   "outputs": [
    {
     "name": "stdout",
     "output_type": "stream",
     "text": [
      "True\n"
     ]
    }
   ],
   "source": [
    "#5\n",
    "t = (True, True, True)  # Example tuple\n",
    "result = all(t)  # Using the built-in function\n",
    "\n",
    "print(result)  # Output: True\n",
    "\n"
   ]
  }
 ],
 "metadata": {
  "kernelspec": {
   "display_name": "Python 3",
   "language": "python",
   "name": "python3"
  },
  "language_info": {
   "codemirror_mode": {
    "name": "ipython",
    "version": 3
   },
   "file_extension": ".py",
   "mimetype": "text/x-python",
   "name": "python",
   "nbconvert_exporter": "python",
   "pygments_lexer": "ipython3",
   "version": "3.13.1"
  }
 },
 "nbformat": 4,
 "nbformat_minor": 2
}
