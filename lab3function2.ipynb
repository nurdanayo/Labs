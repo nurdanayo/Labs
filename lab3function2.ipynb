{
 "cells": [
  {
   "cell_type": "code",
   "execution_count": 1,
   "metadata": {},
   "outputs": [
    {
     "name": "stdout",
     "output_type": "stream",
     "text": [
      "True\n",
      "False\n"
     ]
    }
   ],
   "source": [
    "#1\n",
    "def is_highly_rated(movie):\n",
    "    return movie[\"imdb\"] > 5.5\n",
    "\n",
    "print(is_highly_rated({\"name\": \"Hitman\", \"imdb\": 6.3}))  \n",
    "print(is_highly_rated({\"name\": \"AlphaJet\", \"imdb\": 3.2}))  \n"
   ]
  },
  {
   "cell_type": "code",
   "execution_count": 2,
   "metadata": {},
   "outputs": [
    {
     "name": "stdout",
     "output_type": "stream",
     "text": [
      "[{'name': 'Hitman', 'imdb': 6.3}]\n"
     ]
    }
   ],
   "source": [
    "#2\n",
    "def highly_rated_movies(movies):\n",
    "    return [m for m in movies if m[\"imdb\"] > 5.5]\n",
    "\n",
    "print(highly_rated_movies([\n",
    "    {\"name\": \"Hitman\", \"imdb\": 6.3},\n",
    "    {\"name\": \"AlphaJet\", \"imdb\": 3.2}\n",
    "]))\n"
   ]
  },
  {
   "cell_type": "code",
   "execution_count": 3,
   "metadata": {},
   "outputs": [
    {
     "name": "stdout",
     "output_type": "stream",
     "text": [
      "[{'name': 'Colonia', 'category': 'Romance'}]\n"
     ]
    }
   ],
   "source": [
    "#3\n",
    "def movies_by_category(movies, category):\n",
    "    return [m for m in movies if m[\"category\"] == category]\n",
    "\n",
    "\n",
    "print(movies_by_category([\n",
    "    {\"name\": \"Hitman\", \"category\": \"Action\"},\n",
    "    {\"name\": \"Dark Knight\", \"category\": \"Adventure\"},\n",
    "    {\"name\": \"Colonia\", \"category\": \"Romance\"}\n",
    "], \"Romance\"))\n",
    "\n"
   ]
  },
  {
   "cell_type": "code",
   "execution_count": 4,
   "metadata": {},
   "outputs": [
    {
     "name": "stdout",
     "output_type": "stream",
     "text": [
      "7.566666666666666\n"
     ]
    }
   ],
   "source": [
    "#4\n",
    "def average_imdb(movies):\n",
    "    return sum(m[\"imdb\"] for m in movies) / len(movies) if movies else 0\n",
    "\n",
    "movies_list = [\n",
    "    {\"name\": \"Hitman\", \"imdb\": 6.3},\n",
    "    {\"name\": \"Dark Knight\", \"imdb\": 9.0},\n",
    "    {\"name\": \"Colonia\", \"imdb\": 7.4}\n",
    "]\n",
    "\n",
    "print(average_imdb(movies_list))  \n"
   ]
  },
  {
   "cell_type": "code",
   "execution_count": null,
   "metadata": {},
   "outputs": [],
   "source": [
    "#5\n",
    "def average_imdb_by_category(movies, category):\n",
    "    scores = [m[\"imdb\"] for m in movies if m[\"category\"] == category]\n",
    "    return sum(scores) / len(scores) if scores else 0\n",
    "\n",
    "print(average_imdb_by_category([\n",
    "    {\"name\": \"Hitman\", \"imdb\": 6.3, \"category\": \"Action\"},\n",
    "    {\"name\": \"Dark Knight\", \"imdb\": 9.0, \"category\": \"Adventure\"},\n",
    "    {\"name\": \"Colonia\", \"imdb\": 7.4, \"category\": \"Romance\"},\n",
    "    {\"name\": \"The Choice\", \"imdb\": 6.2, \"category\": \"Romance\"}\n",
    "], \"Romance\"))\n"
   ]
  }
 ],
 "metadata": {
  "kernelspec": {
   "display_name": "Python 3",
   "language": "python",
   "name": "python3"
  },
  "language_info": {
   "codemirror_mode": {
    "name": "ipython",
    "version": 3
   },
   "file_extension": ".py",
   "mimetype": "text/x-python",
   "name": "python",
   "nbconvert_exporter": "python",
   "pygments_lexer": "ipython3",
   "version": "3.13.1"
  }
 },
 "nbformat": 4,
 "nbformat_minor": 2
}
