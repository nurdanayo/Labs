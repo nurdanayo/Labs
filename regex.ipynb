{
 "cells": [
  {
   "cell_type": "code",
   "execution_count": 18,
   "metadata": {},
   "outputs": [
    {
     "name": "stdout",
     "output_type": "stream",
     "text": [
      "False\n"
     ]
    }
   ],
   "source": [
    "#1\n",
    "import re\n",
    "\n",
    "print(bool(re.fullmatch(r'ab*', input())))\n"
   ]
  },
  {
   "cell_type": "code",
   "execution_count": 20,
   "metadata": {},
   "outputs": [
    {
     "name": "stdout",
     "output_type": "stream",
     "text": [
      "True\n"
     ]
    }
   ],
   "source": [
    "#2\n",
    "import re\n",
    "\n",
    "print(bool(re.fullmatch(r'ab{2,3}', input())))\n"
   ]
  },
  {
   "cell_type": "code",
   "execution_count": 15,
   "metadata": {},
   "outputs": [
    {
     "name": "stdout",
     "output_type": "stream",
     "text": [
      "Found: ['a_b']\n"
     ]
    }
   ],
   "source": [
    "#3\n",
    "import re \n",
    "\n",
    "a = input()\n",
    "fnd = re.findall(\"[a-z]_[a-z]\", a)\n",
    "print(\"Found:\",fnd)"
   ]
  },
  {
   "cell_type": "code",
   "execution_count": 16,
   "metadata": {},
   "outputs": [
    {
     "name": "stdout",
     "output_type": "stream",
     "text": [
      "Found: ['Af']\n"
     ]
    }
   ],
   "source": [
    "#4\n",
    "import re\n",
    "\n",
    "a = input()\n",
    "fnd = re.findall(\"[A-Z]{1}[a-z]\", a) \n",
    "print(\"Found:\",fnd)"
   ]
  },
  {
   "cell_type": "code",
   "execution_count": 17,
   "metadata": {},
   "outputs": [
    {
     "name": "stdout",
     "output_type": "stream",
     "text": [
      "Found: ['ab']\n"
     ]
    }
   ],
   "source": [
    "#5\n",
    "import re \n",
    "\n",
    "a = input()\n",
    "fnd = re.findall(\"a.*b$\", a) \n",
    "print(\"Found:\",fnd)"
   ]
  },
  {
   "cell_type": "code",
   "execution_count": 21,
   "metadata": {},
   "outputs": [
    {
     "name": "stdout",
     "output_type": "stream",
     "text": [
      "ab:ba\n"
     ]
    }
   ],
   "source": [
    "#6\n",
    "import re\n",
    "\n",
    "a = input()\n",
    "fnd = re.sub(\"[ ,.]\", \":\", a)\n",
    "print(fnd)"
   ]
  },
  {
   "cell_type": "code",
   "execution_count": 25,
   "metadata": {},
   "outputs": [
    {
     "name": "stdout",
     "output_type": "stream",
     "text": [
      "ConvertSnakeCase\n"
     ]
    }
   ],
   "source": [
    "#7\n",
    "import re\n",
    "\n",
    "a=input()\n",
    "fnd=re.findall(\"[a-z][^_]*\", a)\n",
    "print(\"\".join(wrd.capitalize() for wrd in fnd))\n"
   ]
  },
  {
   "cell_type": "code",
   "execution_count": 23,
   "metadata": {},
   "outputs": [
    {
     "name": "stdout",
     "output_type": "stream",
     "text": [
      "A B B Aab\n"
     ]
    }
   ],
   "source": [
    "#8\n",
    "import re\n",
    "\n",
    "a=input()\n",
    "fnd=re.findall(\"[A-Z][^A-Z]*\", a)\n",
    "print(\" \".join(fnd))"
   ]
  },
  {
   "cell_type": "code",
   "execution_count": 24,
   "metadata": {},
   "outputs": [
    {
     "name": "stdout",
     "output_type": "stream",
     "text": [
      "a_c_ccc_a_a\n"
     ]
    }
   ],
   "source": [
    "#9\n",
    "import re\n",
    "\n",
    "a=input()\n",
    "fnd=re.findall(\"[a-zA-z][^A-Z]*\", a)\n",
    "print(\"_\".join(fnd).lower())"
   ]
  },
  {
   "cell_type": "code",
   "execution_count": 27,
   "metadata": {},
   "outputs": [
    {
     "name": "stdout",
     "output_type": "stream",
     "text": [
      "convert_camel_string\n"
     ]
    }
   ],
   "source": [
    "#10\n",
    "import re\n",
    "\n",
    "a=input()\n",
    "fnd=re.findall(\"[a-zA-z][^A-Z]*\", a)\n",
    "for i in range(len(fnd)):\n",
    "    fnd[i] = fnd[i].lower()\n",
    "print(\"_\".join(fnd))\n"
   ]
  }
 ],
 "metadata": {
  "kernelspec": {
   "display_name": "Python 3",
   "language": "python",
   "name": "python3"
  },
  "language_info": {
   "codemirror_mode": {
    "name": "ipython",
    "version": 3
   },
   "file_extension": ".py",
   "mimetype": "text/x-python",
   "name": "python",
   "nbconvert_exporter": "python",
   "pygments_lexer": "ipython3",
   "version": "3.13.1"
  }
 },
 "nbformat": 4,
 "nbformat_minor": 2
}
