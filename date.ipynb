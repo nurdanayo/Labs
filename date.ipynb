{
 "cells": [
  {
   "cell_type": "code",
   "execution_count": 4,
   "metadata": {},
   "outputs": [
    {
     "name": "stdout",
     "output_type": "stream",
     "text": [
      "Current Date: 2025-02-19\n",
      "Date after subtracting 5 days: 2025-02-14\n"
     ]
    }
   ],
   "source": [
    "#1\n",
    "from datetime import datetime, timedelta\n",
    "\n",
    "current_date = datetime.now()\n",
    "\n",
    "\n",
    "new_date = current_date - timedelta(days=5)\n",
    "\n",
    "print(\"Current Date:\", current_date.strftime(\"%Y-%m-%d\"))\n",
    "print(\"Date after subtracting 5 days:\", new_date.strftime(\"%Y-%m-%d\"))\n"
   ]
  },
  {
   "cell_type": "code",
   "execution_count": 1,
   "metadata": {},
   "outputs": [
    {
     "name": "stdout",
     "output_type": "stream",
     "text": [
      "Yesterday: 2025-02-12\n",
      "Today: 2025-02-13\n",
      "Tomorrow: 2025-02-14\n"
     ]
    }
   ],
   "source": [
    "#2\n",
    "from datetime import datetime, timedelta\n",
    "\n",
    "\n",
    "today = datetime.today().date()\n",
    "\n",
    "yesterday = today - timedelta(days=1)\n",
    "tomorrow = today + timedelta(days=1)\n",
    "\n",
    "\n",
    "print(\"Yesterday:\", yesterday)\n",
    "print(\"Today:\", today)\n",
    "print(\"Tomorrow:\", tomorrow)\n"
   ]
  },
  {
   "cell_type": "code",
   "execution_count": 6,
   "metadata": {},
   "outputs": [
    {
     "name": "stdout",
     "output_type": "stream",
     "text": [
      "Current Datetime: 2025-02-19 18:10:21.675830\n",
      "Datetime without Microseconds: 2025-02-19 18:10:21\n"
     ]
    }
   ],
   "source": [
    "#3\n",
    "from datetime import datetime\n",
    "\n",
    "\n",
    "current_datetime = datetime.now()\n",
    "\n",
    "datetime_without_microseconds = current_datetime.replace(microsecond=0)\n",
    "\n",
    "print(\"Current Datetime:\", current_datetime)\n",
    "print(\"Datetime without Microseconds:\", datetime_without_microseconds)\n",
    "\n"
   ]
  },
  {
   "cell_type": "code",
   "execution_count": 9,
   "metadata": {},
   "outputs": [
    {
     "name": "stdout",
     "output_type": "stream",
     "text": [
      "Difference in seconds: 777600\n"
     ]
    }
   ],
   "source": [
    "#3\n",
    "from datetime import datetime\n",
    "\n",
    "\n",
    "date1 = input(\"Enter first date (YYYY-MM-DD HH:MM:SS): \")\n",
    "date2 = input(\"Enter second date (YYYY-MM-DD HH:MM:SS): \")\n",
    "\n",
    "\n",
    "d1 = datetime.fromisoformat(date1)\n",
    "d2 = datetime.fromisoformat(date2)\n",
    "\n",
    "\n",
    "diff_seconds = abs((d2 - d1).total_seconds())\n",
    "\n",
    "\n",
    "print(f\"Difference in seconds: {int(diff_seconds)}\")\n"
   ]
  }
 ],
 "metadata": {
  "kernelspec": {
   "display_name": "Python 3",
   "language": "python",
   "name": "python3"
  },
  "language_info": {
   "codemirror_mode": {
    "name": "ipython",
    "version": 3
   },
   "file_extension": ".py",
   "mimetype": "text/x-python",
   "name": "python",
   "nbconvert_exporter": "python",
   "pygments_lexer": "ipython3",
   "version": "3.13.1"
  }
 },
 "nbformat": 4,
 "nbformat_minor": 2
}
