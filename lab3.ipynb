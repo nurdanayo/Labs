{
 "cells": [
  {
   "cell_type": "code",
   "execution_count": 4,
   "metadata": {},
   "outputs": [
    {
     "name": "stdout",
     "output_type": "stream",
     "text": [
      "HELLO\n"
     ]
    }
   ],
   "source": [
    "#1\n",
    "class StringManipulator:\n",
    "  def __init__(self):\n",
    "    self.string = \" \"\n",
    "  def getString(self):\n",
    "    self.string = input(\"enter a string:\")   \n",
    "\n",
    "  def printString(self):\n",
    "    print(self.string.upper())\n",
    "\n",
    "obj=StringManipulator()\n",
    "obj.getString()\n",
    "obj.printString()"
   ]
  },
  {
   "cell_type": "code",
   "execution_count": 6,
   "metadata": {},
   "outputs": [
    {
     "name": "stdout",
     "output_type": "stream",
     "text": [
      "64\n"
     ]
    }
   ],
   "source": [
    "#2\n",
    "class Shape:\n",
    "    def area(self):\n",
    "        return 0  \n",
    "\n",
    "class Square(Shape): \n",
    "    def __init__(self, length):\n",
    "        self.length = length  \n",
    "\n",
    "    def area(self):\n",
    "        return self.length * self.length  \n",
    "\n",
    "\n",
    "sq = Square(8)\n",
    "\n",
    "print(sq.area())\n"
   ]
  },
  {
   "cell_type": "code",
   "execution_count": 8,
   "metadata": {},
   "outputs": [
    {
     "name": "stdout",
     "output_type": "stream",
     "text": [
      "50\n"
     ]
    }
   ],
   "source": [
    "#3\n",
    "class Shape:\n",
    "    def area(self):\n",
    "        return 0  \n",
    "\n",
    "class Rectangle(Shape): \n",
    "    def __init__(self, length, width):\n",
    "        self.length = length\n",
    "        self.width = width\n",
    "\n",
    "    def area(self):\n",
    "        return self.length * self.width  \n",
    "\n",
    "\n",
    "rect = Rectangle(10, 5)\n",
    "\n",
    "\n",
    "print(rect.area()) \n",
    "\n"
   ]
  },
  {
   "cell_type": "code",
   "execution_count": 10,
   "metadata": {},
   "outputs": [
    {
     "name": "stdout",
     "output_type": "stream",
     "text": [
      "(3, 8)\n",
      "(2, 7)\n",
      "(5, 5)\n",
      "3.605551275463989\n"
     ]
    }
   ],
   "source": [
    "#4\n",
    "import math \n",
    "\n",
    "class Point:\n",
    "    def __init__(self, x, y):\n",
    "        self.x = x\n",
    "        self.y = y\n",
    "\n",
    "    def show(self):\n",
    "        print(f\"({self.x}, {self.y})\")\n",
    "\n",
    "    def move(self, new_x, new_y):\n",
    "        self.x = new_x\n",
    "        self.y = new_y\n",
    "\n",
    "    def dist(self, other_point):\n",
    "        return math.sqrt((self.x - other_point.x) ** 2 + (self.y - other_point.y) ** 2)\n",
    "\n",
    "\n",
    "p1 = Point(3, 8)\n",
    "p2 = Point(2, 7)\n",
    "\n",
    "\n",
    "p1.show()  \n",
    "p2.show()  \n",
    "\n",
    "\n",
    "p1.move(5, 5)\n",
    "p1.show()  \n",
    "\n",
    "\n",
    "print(p1.dist(p2)) \n",
    "\n",
    "\n"
   ]
  },
  {
   "cell_type": "code",
   "execution_count": 12,
   "metadata": {},
   "outputs": [
    {
     "name": "stdout",
     "output_type": "stream",
     "text": [
      "50.150\n",
      "not enough money\n",
      " 100.50\n"
     ]
    }
   ],
   "source": [
    "#5\n",
    "class BankAccount:\n",
    "    def __init__(self, owner, balance=0):\n",
    "        self.owner = owner\n",
    "        self.balance = balance\n",
    "\n",
    "    def deposit(self, amount):\n",
    "        self.balance += amount\n",
    "        print(f\"{amount}.{self.balance}\")\n",
    "\n",
    "    def withdraw(self, amount):\n",
    "        if amount > self.balance:\n",
    "            print(\"not enough money\")\n",
    "        else:\n",
    "            self.balance -= amount\n",
    "            print(f\" {amount}.{self.balance}\")\n",
    "\n",
    "\n",
    "acc = BankAccount(\"Dilnazz\", 100)\n",
    "\n",
    "\n",
    "acc.deposit(50) \n",
    "\n",
    "\n",
    "acc.withdraw(200)  \n",
    "\n",
    "\n",
    "acc.withdraw(100)  \n"
   ]
  },
  {
   "cell_type": "code",
   "execution_count": 14,
   "metadata": {},
   "outputs": [
    {
     "name": "stdout",
     "output_type": "stream",
     "text": [
      "prime numbers: [11, 13, 19, 23]\n"
     ]
    }
   ],
   "source": [
    "#6\n",
    "import math \n",
    "\n",
    "\n",
    "def is_prime(n):\n",
    "    if n < 2:\n",
    "        return False\n",
    "    for i in range(2, int(math.sqrt(n)) + 1):\n",
    "        if n % i == 0:\n",
    "            return False\n",
    "    return True\n",
    "\n",
    "\n",
    "numbers = [11, 15, 18, 13, 19, 21, 23, 24, 56]\n",
    "\n",
    "\n",
    "prime_numbers = list(filter(lambda x: is_prime(x), numbers))\n",
    "\n",
    "print(\"prime numbers:\", prime_numbers)\n"
   ]
  }
 ],
 "metadata": {
  "kernelspec": {
   "display_name": "Python 3",
   "language": "python",
   "name": "python3"
  },
  "language_info": {
   "codemirror_mode": {
    "name": "ipython",
    "version": 3
   },
   "file_extension": ".py",
   "mimetype": "text/x-python",
   "name": "python",
   "nbconvert_exporter": "python",
   "pygments_lexer": "ipython3",
   "version": "3.13.1"
  }
 },
 "nbformat": 4,
 "nbformat_minor": 2
}
